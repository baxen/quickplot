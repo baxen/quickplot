{
 "metadata": {
  "name": "",
  "signature": "sha256:c692c327e48a77b30e88aae1a394f727b16978c2403f6375d9551d118ec1f612"
 },
 "nbformat": 3,
 "nbformat_minor": 0,
 "worksheets": [
  {
   "cells": [
    {
     "cell_type": "heading",
     "level": 1,
     "metadata": {},
     "source": [
      "Quickplot"
     ]
    },
    {
     "cell_type": "markdown",
     "metadata": {},
     "source": [
      "A collection of shortcuts for making decent plots in python (mostly from `ROOT` histograms)."
     ]
    },
    {
     "cell_type": "code",
     "collapsed": false,
     "input": [
      "import matplotlib.gridspec as gridspec\n",
      "import quickplot as qp\n",
      "%matplotlib inline\n",
      "import matplotlib.pyplot as plt\n",
      "import numpy as np"
     ],
     "language": "python",
     "metadata": {},
     "outputs": [],
     "prompt_number": 1
    },
    {
     "cell_type": "heading",
     "level": 2,
     "metadata": {},
     "source": [
      "Histograms"
     ]
    },
    {
     "cell_type": "markdown",
     "metadata": {},
     "source": [
      "Most of the work is done by a custom `Hist` class. You can create these histograms directly within python or load them from `ROOT` histograms."
     ]
    },
    {
     "cell_type": "code",
     "collapsed": false,
     "input": [
      "x = np.linspace(-3,3,11)\n",
      "lefts = x[:-1]\n",
      "widths = np.diff(x)\n",
      "centers = lefts + widths/2\n",
      "\n",
      "# From numpy arrays or lists (lefts, widths, values, errors)\n",
      "h1 = qp.Hist(lefts, widths, 200.0/np.sqrt(4*np.pi)*np.exp(-0.5*centers*centers), 7.0*np.exp(-.25*centers*centers))\n",
      "\n",
      "# Or directly from a ROOT histogram, usually in a file.\n",
      "from ROOT import TH1F\n",
      "rh = TH1F(\"gaus\",\"\",10,-3,3)\n",
      "rh.FillRandom(\"gaus\",200)\n",
      "h2 = qp.Hist.from_rhist(rh)\n",
      "\n",
      "print h2"
     ],
     "language": "python",
     "metadata": {},
     "outputs": [
      {
       "output_type": "stream",
       "stream": "stdout",
       "text": [
        "[2.0+/-1.4142135623730951 4.0+/-2.0 14.0+/-3.7416573867739413\n",
        " 38.0+/-6.164414002968976 51.0+/-7.14142842854285 51.0+/-7.14142842854285\n",
        " 22.0+/-4.69041575982343 11.0+/-3.3166247903554 4.0+/-2.0\n",
        " 3.0+/-1.7320508075688772]\n"
       ]
      }
     ],
     "prompt_number": 2
    },
    {
     "cell_type": "markdown",
     "metadata": {},
     "source": [
      "The histogram class inherits from `np.ndarray`. That means you can use normal arithmetic, slicing, array indexing, etc... All of these operations <strong>propagate errors</strong>, and the bin locations are correctly updated."
     ]
    },
    {
     "cell_type": "code",
     "collapsed": false,
     "input": [
      "print (h1+h2)**2, '\\n'\n",
      "\n",
      "h3 = h1[2:8]\n",
      "print h3.lefts\n",
      "print h3,'\\n'\n",
      "\n",
      "h4 = h1[::-1]\n",
      "print h4.lefts\n",
      "print h4"
     ],
     "language": "python",
     "metadata": {},
     "outputs": [
      {
       "output_type": "stream",
       "stream": "stdout",
       "text": [
        "[12.066888586993846+/-12.582333671249858\n",
        " 104.45289267335613+/-62.676786731520956\n",
        " 1044.3596647401132+/-353.4667082641023\n",
        " 5719.91760984598+/-1271.6830376438525\n",
        " 11011.644291345843+/-2075.9787718699745\n",
        " 11011.644291345843+/-2075.9787718699745\n",
        " 3555.7532285523716+/-881.8961696448213\n",
        " 859.4603405261179+/-304.1468976206164\n",
        " 104.45289267335625+/-62.67678673152102\n",
        " 20.014374056426337+/-18.510591766495043] \n",
        "\n",
        "[-1.8 -1.2 -0.6  0.   0.6  1.2]\n",
        "[18.316554035665888+/-3.988479773116461\n",
        " 37.630136915425325+/-5.716805378186776\n",
        " 53.936382114812034+/-6.844258660353354\n",
        " 53.93638211481204+/-6.844258660353354\n",
        " 37.63013691542534+/-5.716805378186776\n",
        " 18.316554035665888+/-3.988479773116461] \n",
        "\n",
        "[ 2.4  1.8  1.2  0.6  0.  -0.6 -1.2 -1.8 -2.4 -3. ]\n",
        "[1.47374273471624+/-1.1313483472573753\n",
        " 6.220219795745894+/-2.3242796174126257\n",
        " 18.316554035665888+/-3.988479773116461\n",
        " 37.63013691542534+/-5.716805378186776\n",
        " 53.93638211481204+/-6.844258660353354\n",
        " 53.936382114812034+/-6.844258660353354\n",
        " 37.630136915425325+/-5.716805378186776\n",
        " 18.316554035665888+/-3.988479773116461\n",
        " 6.220219795745889+/-2.3242796174126243\n",
        " 1.473742734716238+/-1.1313483472573744]\n"
       ]
      }
     ],
     "prompt_number": 3
    },
    {
     "cell_type": "markdown",
     "metadata": {},
     "source": [
      "These histograms know how to plot themselves (with a number of styles) on matplotlib axes."
     ]
    },
    {
     "cell_type": "code",
     "collapsed": false,
     "input": [
      "fig, ax = plt.subplots()\n",
      "\n",
      "h1.style='box'\n",
      "h1.plot(ax)\n",
      "h2.color='black'\n",
      "h2.plot(ax)"
     ],
     "language": "python",
     "metadata": {},
     "outputs": [
      {
       "metadata": {},
       "output_type": "pyout",
       "prompt_number": 4,
       "text": [
        "<Container object of 3 artists>"
       ]
      },
      {
       "output_type": "stream",
       "stream": "stderr",
       "text": [
        "/usr/local/lib/python2.7/site-packages/matplotlib/figure.py:1644: UserWarning: This figure includes Axes that are not compatible with tight_layout, so its results might be incorrect.\n",
        "  warnings.warn(\"This figure includes Axes that are not \"\n"
       ]
      },
      {
       "metadata": {},
       "output_type": "display_data",
       "png": "[encoded data removed]",
       "text": [
        "<matplotlib.figure.Figure at 0x103db6650>"
       ]
      }
     ],
     "prompt_number": 4
    },
    {
     "cell_type": "heading",
     "level": 2,
     "metadata": {},
     "source": [
      "Convenience Functions"
     ]
    },
    {
     "cell_type": "markdown",
     "metadata": {},
     "source": [
      "`Quickplot` also has a number of shortcuts that make setting up for plotting easier. \n",
      "\n",
      "You can setup the axes formatting with one function call, grab a whole set of histograms from files, and plot them all at once with some quickplot functions. Check the built-in documentation."
     ]
    },
    {
     "cell_type": "code",
     "collapsed": false,
     "input": [
      "fig = plt.figure(figsize=(8, 6))\n",
      "# Make two axes with shared x-axis, for a comparison and a ratio.\n",
      "gs = gridspec.GridSpec(2,1,height_ratios=[3,1], hspace=0.0, wspace=0.0)\n",
      "ax = plt.subplot(gs[0])\n",
      "ratio = plt.subplot(gs[1], sharex=ax)\n",
      "# can do the equivalent of the above with fig,(ax,ratio) = qp.axes_ratio()\n",
      "\n",
      "\n",
      "# Format the axes. The ratio=True keyword adds horizontal lines at the tick labels.\n",
      "qp.setup_axes(ax, xmin=100, xmax=160, ymin=6e2, ymax=18e2,ylabel=r'N', prune=\"lower\")\n",
      "plt.setp(ax.xaxis, visible=False)\n",
      "qp.setup_axes(ratio, ratio=True, ymin=-200, ymax=400, xlabel=r'$m$ [GeV]',ylabel=r'Data-MC')\n",
      "\n",
      "hists = qp.get_hists([\"hists.mc.root\",\"hists.data.root\"],[\"m1\",\"m2\"],\n",
      "                     label=[\"MC\", \"Data\"],\n",
      "                     style='datavsmc',\n",
      "                     color='datavsmc')\n",
      "\n",
      "\n",
      "rhist = hists[1] - hists[0]\n",
      "\n",
      "qp.compare(ax,hists)\n",
      "qp.compare(ratio,[rhist], draw_legend=False)"
     ],
     "language": "python",
     "metadata": {},
     "outputs": [
      {
       "metadata": {},
       "output_type": "display_data",
       "png": "[encoded data removed]",
       "text": [
        "<matplotlib.figure.Figure at 0x10568bcd0>"
       ]
      }
     ],
     "prompt_number": 5
    },
    {
     "cell_type": "code",
     "collapsed": false,
     "input": [
      "help(qp.get_hists)"
     ],
     "language": "python",
     "metadata": {},
     "outputs": [
      {
       "output_type": "stream",
       "stream": "stdout",
       "text": [
        "Help on function get_hists in module quickplot:\n",
        "\n",
        "get_hists(fnames, hnames, **kwargs)\n",
        "    Returns a list of Hist or Hist2D given the input arguments.\n",
        "    \n",
        "    Allows shorthand to initialize the histograms from multiple file types.\n",
        "    The supported file extensions are those in input_types.\n",
        "    \n",
        "    Arguments:\n",
        "    targets -- A list which uses shorthand to cover the files/histograms.\n",
        "        Targets can be a single file and a list of histograms or a list of files and a single histogram.\n",
        "        For example:\n",
        "            file1.root hist1 hist2 hist3\n",
        "            hist1 file1.root file2.root file3.root\n",
        "    \n",
        "            For the more general case, targets can be specified as:\n",
        "            file1.root hist1 hist2 file2.root hist3 hist4 ...\n",
        "    \n",
        "    This supports all file extensions in input_types (which should be\n",
        "    expanded eventually.)\n",
        "    \n",
        "    Keyword Arguments:\n",
        "    Any valid keyword argument for a Hist constructor can be provided,\n",
        "    and it should be a list with one value for each hist in targets or\n",
        "    a single value which will be applied to all histograms. Additionally,\n",
        "    the following special values can be used:\n",
        "    \n",
        "    color:\"datavsmc\" -- Uses black for any hist from a file with data in\n",
        "        the name and alternating colors for all other hists.\n",
        "    \n",
        "    style:\"datavsmc\" -- Uses point styles in black for any\n",
        "        hist from a file with data in the name and alternating line styles\n",
        "        with errorbands for all other hists.\n",
        "\n"
       ]
      }
     ],
     "prompt_number": 7
    },
    {
     "cell_type": "code",
     "collapsed": false,
     "input": [
      "help(qp.compare)"
     ],
     "language": "python",
     "metadata": {},
     "outputs": [
      {
       "output_type": "stream",
       "stream": "stdout",
       "text": [
        "Help on function compare in module quickplot:\n",
        "\n",
        "compare(ax, hists, draw_legend=True, legend_loc='best', legend_text=None)\n",
        "    Plot hists side-by-side. \n",
        "    \n",
        "    Keyword Arguments:\n",
        "    draw_legend -- If true, draw a legend for all histograms. \n",
        "                     Uses their internal labels.\n",
        "    legend_text -- If true, add text above the legend. \n",
        "                     Useful for putting flags like ATLAS internal.\n",
        "\n"
       ]
      }
     ],
     "prompt_number": 11
    },
    {
     "cell_type": "code",
     "collapsed": false,
     "input": [
      "help(qp.stack)"
     ],
     "language": "python",
     "metadata": {},
     "outputs": [
      {
       "output_type": "stream",
       "stream": "stdout",
       "text": [
        "Help on function stack in module quickplot:\n",
        "\n",
        "stack(ax, hists, draw_legend=True, legend_loc='best', legend_text=None)\n",
        "    Plot histograms as a stack.\n",
        "\n"
       ]
      }
     ],
     "prompt_number": 12
    }
   ],
   "metadata": {}
  }
 ]
}